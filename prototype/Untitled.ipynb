{
 "cells": [
  {
   "cell_type": "code",
   "execution_count": 7,
   "id": "2706a645-8e0b-4da3-a28d-d171a65cfd45",
   "metadata": {},
   "outputs": [
    {
     "name": "stdout",
     "output_type": "stream",
     "text": [
      "Neither 4DNFI7G518XA.fastq.gz nor Formaldehyde+DSG,DdeIandDpnII,HFFc6(Tier1)_1_1_R1.fastq.gz found, download command may not have been run yet.\n",
      "4DNFI9H22RJ3.fastq.gz already renamed --> Formaldehyde+DSG,DdeIandDpnII,HFFc6(Tier1)_1_1_R2.fastq.gz\n"
     ]
    },
    {
     "data": {
      "text/html": [
       "<div><style>\n",
       ".dataframe > thead > tr,\n",
       ".dataframe > tbody > tr {\n",
       "  text-align: right;\n",
       "  white-space: pre-wrap;\n",
       "}\n",
       "</style>\n",
       "<small>shape: (2, 31)</small><table border=\"1\" class=\"dataframe\"><thead><tr><th>File Download URL</th><th>Experiment Set Accession</th><th>Experiment Accession</th><th>File Accession</th><th>Size (MB)</th><th>md5sum</th><th>File Type</th><th>File Format</th><th>Bio Rep No</th><th>Tech Rep No</th><th>Biosource Type</th><th>Organism</th><th>Related File Relationship</th><th>Related File</th><th>Paired End</th><th>Set Status</th><th>File Status</th><th>Publication</th><th>Experiment Type</th><th>Replicate Info</th><th>Assay Details</th><th>Biosource</th><th>Dataset</th><th>Condition</th><th>In Experiment As</th><th>Project</th><th>Generating Lab</th><th>Experimental Lab</th><th>Contributing Lab</th><th>Notes</th><th>Open Data URL</th></tr><tr><td>str</td><td>str</td><td>str</td><td>str</td><td>f64</td><td>str</td><td>str</td><td>str</td><td>i64</td><td>i64</td><td>str</td><td>str</td><td>str</td><td>str</td><td>i64</td><td>str</td><td>str</td><td>str</td><td>str</td><td>str</td><td>str</td><td>str</td><td>str</td><td>str</td><td>str</td><td>str</td><td>str</td><td>str</td><td>str</td><td>str</td><td>str</td></tr></thead><tbody><tr><td>&quot;https://data.4dnucleome.org/fi…</td><td>&quot;4DNESN49VY8X&quot;</td><td>&quot;4DNEXDL7KBH2&quot;</td><td>&quot;4DNFI7G518XA&quot;</td><td>10851.94</td><td>&quot;c603ea160a9fe8a5198f2156cddaf1…</td><td>&quot;reads&quot;</td><td>&quot;fastq&quot;</td><td>1</td><td>1</td><td>&quot;immortalized cell line&quot;</td><td>&quot;human&quot;</td><td>&quot;paired with&quot;</td><td>&quot;4DNFI9H22RJ3&quot;</td><td>1</td><td>&quot;released&quot;</td><td>&quot;released&quot;</td><td>&quot;Akgol Oksuz B et al. (2021)&quot;</td><td>&quot;in situ Hi-C&quot;</td><td>&quot;Biorep 1, Techrep 1&quot;</td><td>&quot;DdeI and DpnII&quot;</td><td>&quot;HFFc6 (Tier 1)&quot;</td><td>&quot;Hi-C on HFF cells - protocol v…</td><td>&quot;Formaldehyde+DSG, DdeI and Dpn…</td><td>&quot;raw file&quot;</td><td>&quot;4DN&quot;</td><td>&quot;Job Dekker, UMMS&quot;</td><td>&quot;Job Dekker, UMMS&quot;</td><td>&quot;N/A&quot;</td><td>&quot;N/A&quot;</td><td>&quot;https://4dn-open-data-public.s…</td></tr><tr><td>&quot;https://data.4dnucleome.org/fi…</td><td>&quot;4DNESN49VY8X&quot;</td><td>&quot;4DNEXDL7KBH2&quot;</td><td>&quot;4DNFI9H22RJ3&quot;</td><td>11122.08</td><td>&quot;ddd6fae650a825b05cd47d318333c3…</td><td>&quot;reads&quot;</td><td>&quot;fastq&quot;</td><td>1</td><td>1</td><td>&quot;immortalized cell line&quot;</td><td>&quot;human&quot;</td><td>&quot;paired with&quot;</td><td>&quot;4DNFI7G518XA&quot;</td><td>2</td><td>&quot;released&quot;</td><td>&quot;released&quot;</td><td>&quot;Akgol Oksuz B et al. (2021)&quot;</td><td>&quot;in situ Hi-C&quot;</td><td>&quot;Biorep 1, Techrep 1&quot;</td><td>&quot;DdeI and DpnII&quot;</td><td>&quot;HFFc6 (Tier 1)&quot;</td><td>&quot;Hi-C on HFF cells - protocol v…</td><td>&quot;Formaldehyde+DSG, DdeI and Dpn…</td><td>&quot;raw file&quot;</td><td>&quot;4DN&quot;</td><td>&quot;Job Dekker, UMMS&quot;</td><td>&quot;Job Dekker, UMMS&quot;</td><td>&quot;N/A&quot;</td><td>&quot;N/A&quot;</td><td>&quot;https://4dn-open-data-public.s…</td></tr></tbody></table></div>"
      ],
      "text/plain": [
       "shape: (2, 31)\n",
       "┌────────────┬────────────┬────────────┬───────────┬───┬───────────┬───────────┬───────┬───────────┐\n",
       "│ File       ┆ Experiment ┆ Experiment ┆ File      ┆ … ┆ Experimen ┆ Contribut ┆ Notes ┆ Open Data │\n",
       "│ Download   ┆ Set        ┆ Accession  ┆ Accession ┆   ┆ tal Lab   ┆ ing Lab   ┆ ---   ┆ URL       │\n",
       "│ URL        ┆ Accession  ┆ ---        ┆ ---       ┆   ┆ ---       ┆ ---       ┆ str   ┆ ---       │\n",
       "│ ---        ┆ ---        ┆ str        ┆ str       ┆   ┆ str       ┆ str       ┆       ┆ str       │\n",
       "│ str        ┆ str        ┆            ┆           ┆   ┆           ┆           ┆       ┆           │\n",
       "╞════════════╪════════════╪════════════╪═══════════╪═══╪═══════════╪═══════════╪═══════╪═══════════╡\n",
       "│ https://da ┆ 4DNESN49VY ┆ 4DNEXDL7KB ┆ 4DNFI7G51 ┆ … ┆ Job       ┆ N/A       ┆ N/A   ┆ https://4 │\n",
       "│ ta.4dnucle ┆ 8X         ┆ H2         ┆ 8XA       ┆   ┆ Dekker,   ┆           ┆       ┆ dn-open-d │\n",
       "│ ome.org/fi ┆            ┆            ┆           ┆   ┆ UMMS      ┆           ┆       ┆ ata-publi │\n",
       "│ …          ┆            ┆            ┆           ┆   ┆           ┆           ┆       ┆ c.s…      │\n",
       "│ https://da ┆ 4DNESN49VY ┆ 4DNEXDL7KB ┆ 4DNFI9H22 ┆ … ┆ Job       ┆ N/A       ┆ N/A   ┆ https://4 │\n",
       "│ ta.4dnucle ┆ 8X         ┆ H2         ┆ RJ3       ┆   ┆ Dekker,   ┆           ┆       ┆ dn-open-d │\n",
       "│ ome.org/fi ┆            ┆            ┆           ┆   ┆ UMMS      ┆           ┆       ┆ ata-publi │\n",
       "│ …          ┆            ┆            ┆           ┆   ┆           ┆           ┆       ┆ c.s…      │\n",
       "└────────────┴────────────┴────────────┴───────────┴───┴───────────┴───────────┴───────┴───────────┘"
      ]
     },
     "execution_count": 7,
     "metadata": {},
     "output_type": "execute_result"
    }
   ],
   "source": [
    "import polars as pl\n",
    "import parse\n",
    "from collections import Counter\n",
    "\n",
    "from urllib.parse import urlparse\n",
    "import os\n",
    "from pathlib import Path\n",
    "\n",
    "def get_filename_from_url(url):\n",
    "    parsed_url = urlparse(url)\n",
    "    return os.path.basename(parsed_url.path)\n",
    "\n",
    "def parse_4dn(tsv_4dn):\n",
    "    return pl.read_csv(tsv_4dn, separator = \"\\t\", comment_prefix = \"#\")\n",
    "\n",
    "def download_command_4dn(tsv_4dn, access_key_id = \"<access_key_id>\", access_key_secret = \"<access_key_secret>\"):\n",
    "    for line in open(tsv_4dn):\n",
    "        command_key = \"Suggested command to download:\"\n",
    "        if command_key in line:\n",
    "            pattern = \"{}\" + command_key + \"{command}\"\n",
    "            raw_command = parse.parse(pattern, line)[\"command\"].strip()\n",
    "            formatted = raw_command.replace(\"<access_key_id>\", access_key_id).replace(\"<access_key_secret>\", access_key_secret)\n",
    "            return formatted\n",
    "\n",
    "def rename(tsv_4dn, label_read = lambda read: f\"R{read}\", update_with = {}):\n",
    "    for row in parse_4dn(\"4dn.tsv\").iter_rows(named = True):\n",
    "        original = get_filename_from_url(row[\"File Download URL\"])\n",
    "        suffix = \"\".join(Path(original).suffixes)\n",
    "        prefix = \"_\".join([\n",
    "            row[\"Condition\"],\n",
    "            str(row[\"Bio Rep No\"]),\n",
    "            str(row[\"Tech Rep No\"]),\n",
    "            label_read(row[\"Paired End\"])\n",
    "        ]).replace(\" \", \"\")\n",
    "        rename = prefix + suffix\n",
    "        yield (Path(original), Path(rename))\n",
    "\n",
    "for original, rename in rename(\"4dn.tsv\"):\n",
    "    if original.exists():\n",
    "        original.rename(rename)\n",
    "        print(f\"Renamed {original} --> {rename}\")\n",
    "    elif rename.exists():\n",
    "        print(f\"{original} already renamed --> {rename}\")\n",
    "    else:\n",
    "        print(f\"Neither {original} nor {rename} found, download command may not have been run yet.\")\n",
    "    \n",
    "parse_4dn(\"4dn.tsv\")"
   ]
  },
  {
   "cell_type": "code",
   "execution_count": 64,
   "id": "6c1eeedc-e698-4e49-8a4f-d6ea952620cb",
   "metadata": {},
   "outputs": [],
   "source": [
    "!touch 4DNFI7G518XA.fastq.gz 4DNFI9H22RJ3.fastq.gz"
   ]
  }
 ],
 "metadata": {
  "kernelspec": {
   "display_name": "Python 3 (ipykernel)",
   "language": "python",
   "name": "python3"
  },
  "language_info": {
   "codemirror_mode": {
    "name": "ipython",
    "version": 3
   },
   "file_extension": ".py",
   "mimetype": "text/x-python",
   "name": "python",
   "nbconvert_exporter": "python",
   "pygments_lexer": "ipython3",
   "version": "3.12.3"
  }
 },
 "nbformat": 4,
 "nbformat_minor": 5
}
