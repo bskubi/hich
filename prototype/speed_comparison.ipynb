{
 "cells": [
  {
   "cell_type": "code",
   "execution_count": 1,
   "metadata": {},
   "outputs": [
    {
     "name": "stdout",
     "output_type": "stream",
     "text": [
      "['readID', 'chrom1', 'pos1', 'chrom2', 'pos2', 'strand1', 'strand2', 'pair_type', 'rfrag1', 'rfrag_start1', 'rfrag_end1', 'rfrag2', 'rfrag_start2', 'rfrag_end2']\n",
      "0\n",
      "0 {'readID': '.', 'chrom1': 'chr1', 'pos1': '10185', 'chrom2': 'chr1', 'pos2': '10185', 'strand1': '-', 'strand2': '-', 'pair_type': 'UU', 'rfrag1': '0', 'rfrag_start1': '0', 'rfrag_end1': '11162', 'rfrag2': '0', 'rfrag_start2': '0', 'rfrag_end2': '11162'}\n"
     ]
    }
   ],
   "source": [
    "from hich.parse.pairs_file import PairsFile\n",
    "import time\n",
    "import polars as pl\n",
    "\n",
    "pairs_file = PairsFile(\"240802_Arima_reseq_dedup.pairs.gz\")\n",
    "codes = {\n",
    "    \"keep\": \"pair.pair_type in ['UU', 'UR', 'RU']\",\n",
    "    \"read_block\": \"'trans' if pair.chrom1 != pair.chrom2 else str(abs(int(pair.pos1) - int(pair.pos2))//1000)\"\n",
    "} \n",
    "\n",
    "for name, code in codes.items():\n",
    "    codes[name] = compile(code, '<string>', 'eval')\n",
    "\n",
    "print(pairs_file.header.columns)\n",
    "\n",
    "for i, pair in enumerate(pairs_file):\n",
    "    if i % 1000000 == 0: print(i)\n",
    "    if not eval(codes[\"keep\"]): continue\n",
    "    else:\n",
    "        block = eval(codes[\"read_block\"])\n",
    "        print(block, pair.to_string(pairs_file.header.columns))\n",
    "        break\n"
   ]
  }
 ],
 "metadata": {
  "kernelspec": {
   "display_name": "hichdev",
   "language": "python",
   "name": "python3"
  },
  "language_info": {
   "codemirror_mode": {
    "name": "ipython",
    "version": 3
   },
   "file_extension": ".py",
   "mimetype": "text/x-python",
   "name": "python",
   "nbconvert_exporter": "python",
   "pygments_lexer": "ipython3",
   "version": "3.12.3"
  }
 },
 "nbformat": 4,
 "nbformat_minor": 2
}
