{
 "cells": [
  {
   "cell_type": "code",
   "execution_count": 19,
   "id": "5f7ea78a-e30d-465f-bd21-a994a076b8e0",
   "metadata": {},
   "outputs": [
    {
     "name": "stdout",
     "output_type": "stream",
     "text": [
      "chr1\t11160\t11164\tRestrictionType\n",
      "chr1\t12411\t12415\tRestrictionType\n",
      "chr1\t12461\t12465\tRestrictionType\n",
      "chr1\t12686\t12690\tRestrictionType\n",
      "chr1\t12829\t12833\tRestrictionType\n",
      "chr1\t13315\t13319\tRestrictionType\n",
      "chr1\t13420\t13424\tRestrictionType\n",
      "chr1\t13566\t13570\tRestrictionType\n",
      "chr1\t13698\t13702\tRestrictionType\n",
      "chr1\t13915\t13919\tRestrictionType\n"
     ]
    }
   ],
   "source": [
    "!head hg38_Arima2.bed"
   ]
  },
  {
   "cell_type": "code",
   "execution_count": 25,
   "id": "fb3ea408-5ef2-47b0-ba9a-bd2bb4b24630",
   "metadata": {},
   "outputs": [
    {
     "name": "stdout",
     "output_type": "stream",
     "text": [
      "BED file created: hg38_Arima2.bed\n"
     ]
    }
   ],
   "source": [
    "from Bio import SeqIO\n",
    "from Bio.Restriction import RestrictionBatch\n",
    "from Bio.Seq import Seq\n",
    "import sys\n",
    "from itertools import pairwise\n",
    "\n",
    "def get_cut_sites(seq_record, enzymes):\n",
    "    cut_sites = []\n",
    "    analysis = enzymes.search(seq_record.seq)\n",
    "    for enzyme in analysis:\n",
    "        positions = [0] + analysis[enzyme]\n",
    "        for pos in pairwise(positions):\n",
    "            cut_sites.append((seq_record.id, *pos))\n",
    "    return cut_sites\n",
    "\n",
    "def write_bed_file(cut_sites, output_file):\n",
    "    with open(output_file, \"w\") as bed_file:\n",
    "        for site in cut_sites:\n",
    "            bed_file.write(f\"{site[0]}\\t{site[1]}\\t{site[2]}\\n\")\n",
    "\n",
    "def main(reference_genome, enzyme_names, output_file):\n",
    "    # Load the reference genome\n",
    "    genome = SeqIO.to_dict(SeqIO.parse(reference_genome, \"fasta\"))\n",
    "\n",
    "    enzymes = RestrictionBatch(enzyme_names)\n",
    "    \n",
    "    # Process each sequence record in the genome\n",
    "    cut_sites = []\n",
    "    for seq_record in genome.values():\n",
    "        cuts = get_cut_sites(seq_record, enzymes)\n",
    "        cut_sites.extend(cuts)\n",
    "    \n",
    "    # Write to BED file\n",
    "    write_bed_file(cut_sites, output_file)\n",
    "\n",
    "if __name__ == \"__main__\":\n",
    "    reference_genome = \"hg38.fna\"\n",
    "    output_file = \"hg38_Arima2.bed\"\n",
    "    \n",
    "    enzyme_names = ['DpnII', 'HinfI']\n",
    "    \n",
    "    main(reference_genome, enzyme_names, output_file)"
   ]
  },
  {
   "cell_type": "code",
   "execution_count": 28,
   "id": "a94e2776-3dba-4b25-870b-1e4235f869b2",
   "metadata": {},
   "outputs": [
    {
     "name": "stdout",
     "output_type": "stream",
     "text": [
      "chr1\t0\t11160\n",
      "chr1\t11160\t12411\n",
      "chr1\t12411\t12461\n",
      "chr1\t12461\t12686\n",
      "chr1\t12686\t12829\n",
      "chr1\t12829\t13315\n",
      "chr1\t13315\t13420\n",
      "chr1\t13420\t13566\n",
      "chr1\t13566\t13698\n",
      "chr1\t13698\t13915\n"
     ]
    }
   ],
   "source": [
    "!head hg38_Arima2.bed"
   ]
  },
  {
   "cell_type": "code",
   "execution_count": 24,
   "id": "923dc871-d651-4736-bf59-16ea91fc5cd0",
   "metadata": {},
   "outputs": [
    {
     "name": "stdout",
     "output_type": "stream",
     "text": [
      "1 1 2\n"
     ]
    }
   ],
   "source": [
    "v = [1, 2]\n",
    "def fun(a, b, c):\n",
    "    print(a, b, c)\n",
    "\n",
    "fun(1, *v)"
   ]
  }
 ],
 "metadata": {
  "kernelspec": {
   "display_name": "Python 3 (ipykernel)",
   "language": "python",
   "name": "python3"
  },
  "language_info": {
   "codemirror_mode": {
    "name": "ipython",
    "version": 3
   },
   "file_extension": ".py",
   "mimetype": "text/x-python",
   "name": "python",
   "nbconvert_exporter": "python",
   "pygments_lexer": "ipython3",
   "version": "3.12.1"
  }
 },
 "nbformat": 4,
 "nbformat_minor": 5
}
