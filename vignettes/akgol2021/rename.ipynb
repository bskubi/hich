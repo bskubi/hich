{
 "cells": [
  {
   "cell_type": "code",
   "execution_count": 1,
   "id": "95b9bef9-f6da-4862-90ea-10ea704feb83",
   "metadata": {},
   "outputs": [],
   "source": [
    "import polars as pl\n",
    "\n",
    "pl.Config(fmt_str_lengths=1000, tbl_width_chars=1000, tbl_rows = 36)\n",
    "df = pl.read_csv(\"4DNESN49VY8X_raw_files_2024-08-01-16h-46m.tsv\", separator=\"\\t\", skip_rows=0).drop_nulls()\n",
    "df = df.filter(pl.col(\"Paired End\") == 1)\n",
    "df = df.rename({\"File Accession\":\"File Accession End 1\", \"Related File\":\"File Accession End 2\"})"
   ]
  },
  {
   "cell_type": "code",
   "execution_count": 4,
   "id": "a1d1bd92-8443-40ad-9959-d73b670c124f",
   "metadata": {},
   "outputs": [
    {
     "data": {
      "text/html": [
       "<div><style>\n",
       ".dataframe > thead > tr,\n",
       ".dataframe > tbody > tr {\n",
       "  text-align: right;\n",
       "  white-space: pre-wrap;\n",
       "}\n",
       "</style>\n",
       "<small>shape: (18, 10)</small><table border=\"1\" class=\"dataframe\"><thead><tr><th>condition</th><th>biorep</th><th>techrep</th><th>fastq1</th><th>fastq2</th><th>assembly</th><th>aligner</th><th>index_dir</th><th>index_prefix</th><th>enzymes</th></tr><tr><td>str</td><td>i64</td><td>i64</td><td>str</td><td>str</td><td>str</td><td>str</td><td>str</td><td>str</td><td>str</td></tr></thead><tbody><tr><td>&quot;Formaldehyde+DSG_DdeI_and_DpnII_HFFc6&quot;</td><td>1</td><td>1</td><td>&quot;vignettes/systematic/downsampled/Formaldehyde+DSG_DdeI_and_DpnII_HFFc6_BR1_TR1_R1.fastq.gz&quot;</td><td>&quot;vignettes/systematic/downsampled/Formaldehyde+DSG_DdeI_and_DpnII_HFFc6_BR1_TR1_R2.fastq.gz&quot;</td><td>&quot;hg38&quot;</td><td>&quot;bwa&quot;</td><td>&quot;resources/bwa&quot;</td><td>&quot;GRCh38_no_alt_analysis_set_GCA_000001405.15.fasta&quot;</td><td>&quot;DdeI DpnII&quot;</td></tr><tr><td>&quot;Formaldehyde+DSG_DdeI_and_DpnII_HFFc6&quot;</td><td>1</td><td>2</td><td>&quot;vignettes/systematic/downsampled/Formaldehyde+DSG_DdeI_and_DpnII_HFFc6_BR1_TR2_R1.fastq.gz&quot;</td><td>&quot;vignettes/systematic/downsampled/Formaldehyde+DSG_DdeI_and_DpnII_HFFc6_BR1_TR2_R2.fastq.gz&quot;</td><td>&quot;hg38&quot;</td><td>&quot;bwa&quot;</td><td>&quot;resources/bwa&quot;</td><td>&quot;GRCh38_no_alt_analysis_set_GCA_000001405.15.fasta&quot;</td><td>&quot;DdeI DpnII&quot;</td></tr><tr><td>&quot;Formaldehyde+DSG_DdeI_and_DpnII_HFFc6&quot;</td><td>1</td><td>3</td><td>&quot;vignettes/systematic/downsampled/Formaldehyde+DSG_DdeI_and_DpnII_HFFc6_BR1_TR3_R1.fastq.gz&quot;</td><td>&quot;vignettes/systematic/downsampled/Formaldehyde+DSG_DdeI_and_DpnII_HFFc6_BR1_TR3_R2.fastq.gz&quot;</td><td>&quot;hg38&quot;</td><td>&quot;bwa&quot;</td><td>&quot;resources/bwa&quot;</td><td>&quot;GRCh38_no_alt_analysis_set_GCA_000001405.15.fasta&quot;</td><td>&quot;DdeI DpnII&quot;</td></tr><tr><td>&quot;Formaldehyde+DSG_DdeI_and_DpnII_HFFc6&quot;</td><td>1</td><td>4</td><td>&quot;vignettes/systematic/downsampled/Formaldehyde+DSG_DdeI_and_DpnII_HFFc6_BR1_TR4_R1.fastq.gz&quot;</td><td>&quot;vignettes/systematic/downsampled/Formaldehyde+DSG_DdeI_and_DpnII_HFFc6_BR1_TR4_R2.fastq.gz&quot;</td><td>&quot;hg38&quot;</td><td>&quot;bwa&quot;</td><td>&quot;resources/bwa&quot;</td><td>&quot;GRCh38_no_alt_analysis_set_GCA_000001405.15.fasta&quot;</td><td>&quot;DdeI DpnII&quot;</td></tr><tr><td>&quot;Formaldehyde+DSG_DdeI_and_DpnII_HFFc6&quot;</td><td>1</td><td>5</td><td>&quot;vignettes/systematic/downsampled/Formaldehyde+DSG_DdeI_and_DpnII_HFFc6_BR1_TR5_R1.fastq.gz&quot;</td><td>&quot;vignettes/systematic/downsampled/Formaldehyde+DSG_DdeI_and_DpnII_HFFc6_BR1_TR5_R2.fastq.gz&quot;</td><td>&quot;hg38&quot;</td><td>&quot;bwa&quot;</td><td>&quot;resources/bwa&quot;</td><td>&quot;GRCh38_no_alt_analysis_set_GCA_000001405.15.fasta&quot;</td><td>&quot;DdeI DpnII&quot;</td></tr><tr><td>&quot;Formaldehyde+DSG_DdeI_and_DpnII_HFFc6&quot;</td><td>1</td><td>6</td><td>&quot;vignettes/systematic/downsampled/Formaldehyde+DSG_DdeI_and_DpnII_HFFc6_BR1_TR6_R1.fastq.gz&quot;</td><td>&quot;vignettes/systematic/downsampled/Formaldehyde+DSG_DdeI_and_DpnII_HFFc6_BR1_TR6_R2.fastq.gz&quot;</td><td>&quot;hg38&quot;</td><td>&quot;bwa&quot;</td><td>&quot;resources/bwa&quot;</td><td>&quot;GRCh38_no_alt_analysis_set_GCA_000001405.15.fasta&quot;</td><td>&quot;DdeI DpnII&quot;</td></tr><tr><td>&quot;Formaldehyde+DSG_DdeI_and_DpnII_HFFc6&quot;</td><td>1</td><td>7</td><td>&quot;vignettes/systematic/downsampled/Formaldehyde+DSG_DdeI_and_DpnII_HFFc6_BR1_TR7_R1.fastq.gz&quot;</td><td>&quot;vignettes/systematic/downsampled/Formaldehyde+DSG_DdeI_and_DpnII_HFFc6_BR1_TR7_R2.fastq.gz&quot;</td><td>&quot;hg38&quot;</td><td>&quot;bwa&quot;</td><td>&quot;resources/bwa&quot;</td><td>&quot;GRCh38_no_alt_analysis_set_GCA_000001405.15.fasta&quot;</td><td>&quot;DdeI DpnII&quot;</td></tr><tr><td>&quot;Formaldehyde+DSG_DdeI_and_DpnII_HFFc6&quot;</td><td>1</td><td>8</td><td>&quot;vignettes/systematic/downsampled/Formaldehyde+DSG_DdeI_and_DpnII_HFFc6_BR1_TR8_R1.fastq.gz&quot;</td><td>&quot;vignettes/systematic/downsampled/Formaldehyde+DSG_DdeI_and_DpnII_HFFc6_BR1_TR8_R2.fastq.gz&quot;</td><td>&quot;hg38&quot;</td><td>&quot;bwa&quot;</td><td>&quot;resources/bwa&quot;</td><td>&quot;GRCh38_no_alt_analysis_set_GCA_000001405.15.fasta&quot;</td><td>&quot;DdeI DpnII&quot;</td></tr><tr><td>&quot;Formaldehyde+DSG_DdeI_and_DpnII_HFFc6&quot;</td><td>1</td><td>9</td><td>&quot;vignettes/systematic/downsampled/Formaldehyde+DSG_DdeI_and_DpnII_HFFc6_BR1_TR9_R1.fastq.gz&quot;</td><td>&quot;vignettes/systematic/downsampled/Formaldehyde+DSG_DdeI_and_DpnII_HFFc6_BR1_TR9_R2.fastq.gz&quot;</td><td>&quot;hg38&quot;</td><td>&quot;bwa&quot;</td><td>&quot;resources/bwa&quot;</td><td>&quot;GRCh38_no_alt_analysis_set_GCA_000001405.15.fasta&quot;</td><td>&quot;DdeI DpnII&quot;</td></tr><tr><td>&quot;Formaldehyde+DSG_DdeI_and_DpnII_HFFc6&quot;</td><td>2</td><td>1</td><td>&quot;vignettes/systematic/downsampled/Formaldehyde+DSG_DdeI_and_DpnII_HFFc6_BR2_TR1_R1.fastq.gz&quot;</td><td>&quot;vignettes/systematic/downsampled/Formaldehyde+DSG_DdeI_and_DpnII_HFFc6_BR2_TR1_R2.fastq.gz&quot;</td><td>&quot;hg38&quot;</td><td>&quot;bwa&quot;</td><td>&quot;resources/bwa&quot;</td><td>&quot;GRCh38_no_alt_analysis_set_GCA_000001405.15.fasta&quot;</td><td>&quot;DdeI DpnII&quot;</td></tr><tr><td>&quot;Formaldehyde+DSG_DdeI_and_DpnII_HFFc6&quot;</td><td>2</td><td>2</td><td>&quot;vignettes/systematic/downsampled/Formaldehyde+DSG_DdeI_and_DpnII_HFFc6_BR2_TR2_R1.fastq.gz&quot;</td><td>&quot;vignettes/systematic/downsampled/Formaldehyde+DSG_DdeI_and_DpnII_HFFc6_BR2_TR2_R2.fastq.gz&quot;</td><td>&quot;hg38&quot;</td><td>&quot;bwa&quot;</td><td>&quot;resources/bwa&quot;</td><td>&quot;GRCh38_no_alt_analysis_set_GCA_000001405.15.fasta&quot;</td><td>&quot;DdeI DpnII&quot;</td></tr><tr><td>&quot;Formaldehyde+DSG_DdeI_and_DpnII_HFFc6&quot;</td><td>2</td><td>3</td><td>&quot;vignettes/systematic/downsampled/Formaldehyde+DSG_DdeI_and_DpnII_HFFc6_BR2_TR3_R1.fastq.gz&quot;</td><td>&quot;vignettes/systematic/downsampled/Formaldehyde+DSG_DdeI_and_DpnII_HFFc6_BR2_TR3_R2.fastq.gz&quot;</td><td>&quot;hg38&quot;</td><td>&quot;bwa&quot;</td><td>&quot;resources/bwa&quot;</td><td>&quot;GRCh38_no_alt_analysis_set_GCA_000001405.15.fasta&quot;</td><td>&quot;DdeI DpnII&quot;</td></tr><tr><td>&quot;Formaldehyde+DSG_DdeI_and_DpnII_HFFc6&quot;</td><td>2</td><td>4</td><td>&quot;vignettes/systematic/downsampled/Formaldehyde+DSG_DdeI_and_DpnII_HFFc6_BR2_TR4_R1.fastq.gz&quot;</td><td>&quot;vignettes/systematic/downsampled/Formaldehyde+DSG_DdeI_and_DpnII_HFFc6_BR2_TR4_R2.fastq.gz&quot;</td><td>&quot;hg38&quot;</td><td>&quot;bwa&quot;</td><td>&quot;resources/bwa&quot;</td><td>&quot;GRCh38_no_alt_analysis_set_GCA_000001405.15.fasta&quot;</td><td>&quot;DdeI DpnII&quot;</td></tr><tr><td>&quot;Formaldehyde+DSG_DdeI_and_DpnII_HFFc6&quot;</td><td>2</td><td>5</td><td>&quot;vignettes/systematic/downsampled/Formaldehyde+DSG_DdeI_and_DpnII_HFFc6_BR2_TR5_R1.fastq.gz&quot;</td><td>&quot;vignettes/systematic/downsampled/Formaldehyde+DSG_DdeI_and_DpnII_HFFc6_BR2_TR5_R2.fastq.gz&quot;</td><td>&quot;hg38&quot;</td><td>&quot;bwa&quot;</td><td>&quot;resources/bwa&quot;</td><td>&quot;GRCh38_no_alt_analysis_set_GCA_000001405.15.fasta&quot;</td><td>&quot;DdeI DpnII&quot;</td></tr><tr><td>&quot;Formaldehyde+DSG_DdeI_and_DpnII_HFFc6&quot;</td><td>2</td><td>6</td><td>&quot;vignettes/systematic/downsampled/Formaldehyde+DSG_DdeI_and_DpnII_HFFc6_BR2_TR6_R1.fastq.gz&quot;</td><td>&quot;vignettes/systematic/downsampled/Formaldehyde+DSG_DdeI_and_DpnII_HFFc6_BR2_TR6_R2.fastq.gz&quot;</td><td>&quot;hg38&quot;</td><td>&quot;bwa&quot;</td><td>&quot;resources/bwa&quot;</td><td>&quot;GRCh38_no_alt_analysis_set_GCA_000001405.15.fasta&quot;</td><td>&quot;DdeI DpnII&quot;</td></tr><tr><td>&quot;Formaldehyde+DSG_DdeI_and_DpnII_HFFc6&quot;</td><td>2</td><td>7</td><td>&quot;vignettes/systematic/downsampled/Formaldehyde+DSG_DdeI_and_DpnII_HFFc6_BR2_TR7_R1.fastq.gz&quot;</td><td>&quot;vignettes/systematic/downsampled/Formaldehyde+DSG_DdeI_and_DpnII_HFFc6_BR2_TR7_R2.fastq.gz&quot;</td><td>&quot;hg38&quot;</td><td>&quot;bwa&quot;</td><td>&quot;resources/bwa&quot;</td><td>&quot;GRCh38_no_alt_analysis_set_GCA_000001405.15.fasta&quot;</td><td>&quot;DdeI DpnII&quot;</td></tr><tr><td>&quot;Formaldehyde+DSG_DdeI_and_DpnII_HFFc6&quot;</td><td>2</td><td>8</td><td>&quot;vignettes/systematic/downsampled/Formaldehyde+DSG_DdeI_and_DpnII_HFFc6_BR2_TR8_R1.fastq.gz&quot;</td><td>&quot;vignettes/systematic/downsampled/Formaldehyde+DSG_DdeI_and_DpnII_HFFc6_BR2_TR8_R2.fastq.gz&quot;</td><td>&quot;hg38&quot;</td><td>&quot;bwa&quot;</td><td>&quot;resources/bwa&quot;</td><td>&quot;GRCh38_no_alt_analysis_set_GCA_000001405.15.fasta&quot;</td><td>&quot;DdeI DpnII&quot;</td></tr><tr><td>&quot;Formaldehyde+DSG_DdeI_and_DpnII_HFFc6&quot;</td><td>2</td><td>9</td><td>&quot;vignettes/systematic/downsampled/Formaldehyde+DSG_DdeI_and_DpnII_HFFc6_BR2_TR9_R1.fastq.gz&quot;</td><td>&quot;vignettes/systematic/downsampled/Formaldehyde+DSG_DdeI_and_DpnII_HFFc6_BR2_TR9_R2.fastq.gz&quot;</td><td>&quot;hg38&quot;</td><td>&quot;bwa&quot;</td><td>&quot;resources/bwa&quot;</td><td>&quot;GRCh38_no_alt_analysis_set_GCA_000001405.15.fasta&quot;</td><td>&quot;DdeI DpnII&quot;</td></tr></tbody></table></div>"
      ],
      "text/plain": [
       "shape: (18, 10)\n",
       "┌───────────────────────────────────────┬────────┬─────────┬────────────────────────────────────────────────────────────────────────────────────────────┬───┬─────────┬───────────────┬───────────────────────────────────────────────────┬────────────┐\n",
       "│ condition                             ┆ biorep ┆ techrep ┆ fastq1                                                                                     ┆ … ┆ aligner ┆ index_dir     ┆ index_prefix                                      ┆ enzymes    │\n",
       "│ ---                                   ┆ ---    ┆ ---     ┆ ---                                                                                        ┆   ┆ ---     ┆ ---           ┆ ---                                               ┆ ---        │\n",
       "│ str                                   ┆ i64    ┆ i64     ┆ str                                                                                        ┆   ┆ str     ┆ str           ┆ str                                               ┆ str        │\n",
       "╞═══════════════════════════════════════╪════════╪═════════╪════════════════════════════════════════════════════════════════════════════════════════════╪═══╪═════════╪═══════════════╪═══════════════════════════════════════════════════╪════════════╡\n",
       "│ Formaldehyde+DSG_DdeI_and_DpnII_HFFc6 ┆ 1      ┆ 1       ┆ vignettes/systematic/downsampled/Formaldehyde+DSG_DdeI_and_DpnII_HFFc6_BR1_TR1_R1.fastq.gz ┆ … ┆ bwa     ┆ resources/bwa ┆ GRCh38_no_alt_analysis_set_GCA_000001405.15.fasta ┆ DdeI DpnII │\n",
       "│ Formaldehyde+DSG_DdeI_and_DpnII_HFFc6 ┆ 1      ┆ 2       ┆ vignettes/systematic/downsampled/Formaldehyde+DSG_DdeI_and_DpnII_HFFc6_BR1_TR2_R1.fastq.gz ┆ … ┆ bwa     ┆ resources/bwa ┆ GRCh38_no_alt_analysis_set_GCA_000001405.15.fasta ┆ DdeI DpnII │\n",
       "│ Formaldehyde+DSG_DdeI_and_DpnII_HFFc6 ┆ 1      ┆ 3       ┆ vignettes/systematic/downsampled/Formaldehyde+DSG_DdeI_and_DpnII_HFFc6_BR1_TR3_R1.fastq.gz ┆ … ┆ bwa     ┆ resources/bwa ┆ GRCh38_no_alt_analysis_set_GCA_000001405.15.fasta ┆ DdeI DpnII │\n",
       "│ Formaldehyde+DSG_DdeI_and_DpnII_HFFc6 ┆ 1      ┆ 4       ┆ vignettes/systematic/downsampled/Formaldehyde+DSG_DdeI_and_DpnII_HFFc6_BR1_TR4_R1.fastq.gz ┆ … ┆ bwa     ┆ resources/bwa ┆ GRCh38_no_alt_analysis_set_GCA_000001405.15.fasta ┆ DdeI DpnII │\n",
       "│ Formaldehyde+DSG_DdeI_and_DpnII_HFFc6 ┆ 1      ┆ 5       ┆ vignettes/systematic/downsampled/Formaldehyde+DSG_DdeI_and_DpnII_HFFc6_BR1_TR5_R1.fastq.gz ┆ … ┆ bwa     ┆ resources/bwa ┆ GRCh38_no_alt_analysis_set_GCA_000001405.15.fasta ┆ DdeI DpnII │\n",
       "│ Formaldehyde+DSG_DdeI_and_DpnII_HFFc6 ┆ 1      ┆ 6       ┆ vignettes/systematic/downsampled/Formaldehyde+DSG_DdeI_and_DpnII_HFFc6_BR1_TR6_R1.fastq.gz ┆ … ┆ bwa     ┆ resources/bwa ┆ GRCh38_no_alt_analysis_set_GCA_000001405.15.fasta ┆ DdeI DpnII │\n",
       "│ Formaldehyde+DSG_DdeI_and_DpnII_HFFc6 ┆ 1      ┆ 7       ┆ vignettes/systematic/downsampled/Formaldehyde+DSG_DdeI_and_DpnII_HFFc6_BR1_TR7_R1.fastq.gz ┆ … ┆ bwa     ┆ resources/bwa ┆ GRCh38_no_alt_analysis_set_GCA_000001405.15.fasta ┆ DdeI DpnII │\n",
       "│ Formaldehyde+DSG_DdeI_and_DpnII_HFFc6 ┆ 1      ┆ 8       ┆ vignettes/systematic/downsampled/Formaldehyde+DSG_DdeI_and_DpnII_HFFc6_BR1_TR8_R1.fastq.gz ┆ … ┆ bwa     ┆ resources/bwa ┆ GRCh38_no_alt_analysis_set_GCA_000001405.15.fasta ┆ DdeI DpnII │\n",
       "│ Formaldehyde+DSG_DdeI_and_DpnII_HFFc6 ┆ 1      ┆ 9       ┆ vignettes/systematic/downsampled/Formaldehyde+DSG_DdeI_and_DpnII_HFFc6_BR1_TR9_R1.fastq.gz ┆ … ┆ bwa     ┆ resources/bwa ┆ GRCh38_no_alt_analysis_set_GCA_000001405.15.fasta ┆ DdeI DpnII │\n",
       "│ Formaldehyde+DSG_DdeI_and_DpnII_HFFc6 ┆ 2      ┆ 1       ┆ vignettes/systematic/downsampled/Formaldehyde+DSG_DdeI_and_DpnII_HFFc6_BR2_TR1_R1.fastq.gz ┆ … ┆ bwa     ┆ resources/bwa ┆ GRCh38_no_alt_analysis_set_GCA_000001405.15.fasta ┆ DdeI DpnII │\n",
       "│ Formaldehyde+DSG_DdeI_and_DpnII_HFFc6 ┆ 2      ┆ 2       ┆ vignettes/systematic/downsampled/Formaldehyde+DSG_DdeI_and_DpnII_HFFc6_BR2_TR2_R1.fastq.gz ┆ … ┆ bwa     ┆ resources/bwa ┆ GRCh38_no_alt_analysis_set_GCA_000001405.15.fasta ┆ DdeI DpnII │\n",
       "│ Formaldehyde+DSG_DdeI_and_DpnII_HFFc6 ┆ 2      ┆ 3       ┆ vignettes/systematic/downsampled/Formaldehyde+DSG_DdeI_and_DpnII_HFFc6_BR2_TR3_R1.fastq.gz ┆ … ┆ bwa     ┆ resources/bwa ┆ GRCh38_no_alt_analysis_set_GCA_000001405.15.fasta ┆ DdeI DpnII │\n",
       "│ Formaldehyde+DSG_DdeI_and_DpnII_HFFc6 ┆ 2      ┆ 4       ┆ vignettes/systematic/downsampled/Formaldehyde+DSG_DdeI_and_DpnII_HFFc6_BR2_TR4_R1.fastq.gz ┆ … ┆ bwa     ┆ resources/bwa ┆ GRCh38_no_alt_analysis_set_GCA_000001405.15.fasta ┆ DdeI DpnII │\n",
       "│ Formaldehyde+DSG_DdeI_and_DpnII_HFFc6 ┆ 2      ┆ 5       ┆ vignettes/systematic/downsampled/Formaldehyde+DSG_DdeI_and_DpnII_HFFc6_BR2_TR5_R1.fastq.gz ┆ … ┆ bwa     ┆ resources/bwa ┆ GRCh38_no_alt_analysis_set_GCA_000001405.15.fasta ┆ DdeI DpnII │\n",
       "│ Formaldehyde+DSG_DdeI_and_DpnII_HFFc6 ┆ 2      ┆ 6       ┆ vignettes/systematic/downsampled/Formaldehyde+DSG_DdeI_and_DpnII_HFFc6_BR2_TR6_R1.fastq.gz ┆ … ┆ bwa     ┆ resources/bwa ┆ GRCh38_no_alt_analysis_set_GCA_000001405.15.fasta ┆ DdeI DpnII │\n",
       "│ Formaldehyde+DSG_DdeI_and_DpnII_HFFc6 ┆ 2      ┆ 7       ┆ vignettes/systematic/downsampled/Formaldehyde+DSG_DdeI_and_DpnII_HFFc6_BR2_TR7_R1.fastq.gz ┆ … ┆ bwa     ┆ resources/bwa ┆ GRCh38_no_alt_analysis_set_GCA_000001405.15.fasta ┆ DdeI DpnII │\n",
       "│ Formaldehyde+DSG_DdeI_and_DpnII_HFFc6 ┆ 2      ┆ 8       ┆ vignettes/systematic/downsampled/Formaldehyde+DSG_DdeI_and_DpnII_HFFc6_BR2_TR8_R1.fastq.gz ┆ … ┆ bwa     ┆ resources/bwa ┆ GRCh38_no_alt_analysis_set_GCA_000001405.15.fasta ┆ DdeI DpnII │\n",
       "│ Formaldehyde+DSG_DdeI_and_DpnII_HFFc6 ┆ 2      ┆ 9       ┆ vignettes/systematic/downsampled/Formaldehyde+DSG_DdeI_and_DpnII_HFFc6_BR2_TR9_R1.fastq.gz ┆ … ┆ bwa     ┆ resources/bwa ┆ GRCh38_no_alt_analysis_set_GCA_000001405.15.fasta ┆ DdeI DpnII │\n",
       "└───────────────────────────────────────┴────────┴─────────┴────────────────────────────────────────────────────────────────────────────────────────────┴───┴─────────┴───────────────┴───────────────────────────────────────────────────┴────────────┘"
      ]
     },
     "execution_count": 4,
     "metadata": {},
     "output_type": "execute_result"
    }
   ],
   "source": [
    "import subprocess\n",
    "from pathlib import Path\n",
    "\n",
    "techreps = {}\n",
    "samples = {\"condition\":[], \"biorep\":[], \"techrep\":[], \"fastq1\":[], \"fastq2\":[], \"assembly\":[], \"aligner\":[], \"index_dir\": [], \"index_prefix\": [], \"enzymes\":[]}\n",
    "\n",
    "\n",
    "for row in df.iter_rows(named = True):\n",
    "    condition = \"_\".join(row[\"Condition\"].split()[:-2]).replace(\",\", \"\")\n",
    "    biorep = int(row[\"Replicate Info\"].replace(\",\", \"\").split()[1])\n",
    "    key = (condition, biorep)\n",
    "    techreps[key] = 1 if key not in techreps else techreps[key] + 1\n",
    "    techrep = techreps[key]\n",
    "\n",
    "    accession_end1 = row[\"File Accession End 1\"]\n",
    "    accession_end2 = row[\"File Accession End 2\"]\n",
    "\n",
    "    for i, accession in enumerate([accession_end1, accession_end2]):\n",
    "        end = i + 1\n",
    "        old_name = f\"downsampled/{accession}.fastq.gz\"\n",
    "        new_name = f\"downsampled/{condition}_BR{biorep}_TR{techrep}_R{end}.fastq.gz\"\n",
    "\n",
    "        if Path(old_name).exists():\n",
    "            cmd = subprocess.run(f\"mv {old_name} {new_name}\", shell=True)\n",
    "\n",
    "    enzymes = row[\"Assay Details\"].replace(\" and \", \" \")\n",
    "    accession = row[\"Experiment Set Accession\"]\n",
    "\n",
    "    base_dir = \"vignettes/systematic/downsampled\"\n",
    "    fastq1 = f\"{base_dir}/{condition}_BR{biorep}_TR{techrep}_R1.fastq.gz\"\n",
    "    fastq2 = f\"{base_dir}/{condition}_BR{biorep}_TR{techrep}_R2.fastq.gz\"\n",
    "\n",
    "    samples[\"condition\"] += [condition]\n",
    "    samples[\"biorep\"] += [biorep]\n",
    "    samples[\"techrep\"] += [techrep]\n",
    "    samples[\"fastq1\"] += [fastq1]\n",
    "    samples[\"fastq2\"] += [fastq2]\n",
    "    samples[\"assembly\"] += [\"hg38\"]\n",
    "    samples[\"aligner\"] += [\"bwa\"]\n",
    "    samples[\"enzymes\"] += [enzymes]\n",
    "    samples[\"index_dir\"] += [\"resources/bwa\"]\n",
    "    samples[\"index_prefix\"] += [\"GRCh38_no_alt_analysis_set_GCA_000001405.15.fasta\"]\n",
    "\n",
    "samples = pl.DataFrame(samples)\n",
    "samples.write_csv(\"samples.tsv\", separator=\"\\t\")\n",
    "samples"
   ]
  },
  {
   "cell_type": "code",
   "execution_count": null,
   "id": "f97df6ca-122c-49f2-9914-376bee09cfd8",
   "metadata": {},
   "outputs": [],
   "source": []
  }
 ],
 "metadata": {
  "kernelspec": {
   "display_name": "Python 3 (ipykernel)",
   "language": "python",
   "name": "python3"
  },
  "language_info": {
   "codemirror_mode": {
    "name": "ipython",
    "version": 3
   },
   "file_extension": ".py",
   "mimetype": "text/x-python",
   "name": "python",
   "nbconvert_exporter": "python",
   "pygments_lexer": "ipython3",
   "version": "3.12.3"
  }
 },
 "nbformat": 4,
 "nbformat_minor": 5
}
