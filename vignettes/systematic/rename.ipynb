{
 "cells": [
  {
   "cell_type": "code",
   "execution_count": 30,
   "id": "95b9bef9-f6da-4862-90ea-10ea704feb83",
   "metadata": {},
   "outputs": [],
   "source": [
    "import polars as pl\n",
    "\n",
    "df = pl.read_csv(\"4DNESN49VY8X_raw_files_2024-08-01-16h-46m.tsv\", separator=\"\\t\", skip_rows=1).drop_nulls()\n"
   ]
  },
  {
   "cell_type": "code",
   "execution_count": 34,
   "id": "a1d1bd92-8443-40ad-9959-d73b670c124f",
   "metadata": {},
   "outputs": [],
   "source": [
    "import subprocess\n",
    "\n",
    "subset = df.select([\"File Accession\", \"Related File Relationship\", \"Related File\", \"Paired End\", \"Bio Rep No\"]).drop_nulls()\n",
    "pe1 = subset.filter(pl.col(\"Paired End\") == 1).sort(by=\"File Accession\")\n",
    "pe2 = subset.filter(pl.col(\"Paired End\") == 2).sort(by=\"Related File\")\n",
    "for r1, r2 in zip(pe1.iter_rows(), pe2.iter_rows()):\n",
    "    assert r1[0] == r2[2] and r1[2] == r2[0]\n",
    "ends = pe1.rename({\"File Accession\":\"End1\"}).with_columns(pe2.rename({\"File Accession\":\"End2\"})).select([\"End1\", \"End2\", \"Bio Rep No\"]).sort(by=\"Bio Rep No\")\n",
    "for i, row in enumerate(ends.iter_rows()):\n",
    "    f1 = f\"downsampled/{row[0]}.fastq.gz\"\n",
    "    f2 = f\"downsampled/{row[1]}.fastq.gz\"\n",
    "    biorep = row[2]\n",
    "    f1_new = f\"downsampled/4DNESN49VY8X_BR{biorep}_F{i}_R1.fastq.gz\"\n",
    "    f2_new = f\"downsampled/4DNESN49VY8X_BR{biorep}_F{i}_R2.fastq.gz\"\n",
    "    cmd = f\"mv {f1} {f1_new} && mv {f2} {f2_new}\"\n",
    "    subprocess.run(cmd, shell=True)"
   ]
  },
  {
   "cell_type": "code",
   "execution_count": 33,
   "id": "b582d1b3-42a2-4c1b-a7b1-022dc56e5158",
   "metadata": {},
   "outputs": [
    {
     "name": "stdout",
     "output_type": "stream",
     "text": [
      "4DNESN49VY8X_raw_files_2024-08-01-16h-46m.tsv  downsampled  Untitled.ipynb\n"
     ]
    }
   ],
   "source": [
    "!ls"
   ]
  }
 ],
 "metadata": {
  "kernelspec": {
   "display_name": "Python 3 (ipykernel)",
   "language": "python",
   "name": "python3"
  },
  "language_info": {
   "codemirror_mode": {
    "name": "ipython",
    "version": 3
   },
   "file_extension": ".py",
   "mimetype": "text/x-python",
   "name": "python",
   "nbconvert_exporter": "python",
   "pygments_lexer": "ipython3",
   "version": "3.12.2"
  }
 },
 "nbformat": 4,
 "nbformat_minor": 5
}
